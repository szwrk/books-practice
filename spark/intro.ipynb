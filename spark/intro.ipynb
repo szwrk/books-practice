{
 "cells": [
  {
   "cell_type": "code",
   "execution_count": 4,
   "metadata": {},
   "outputs": [],
   "source": [
    "from pyspark.sql import SparkSession\n",
    "spark = SparkSession.builder.appName(\"Spark\").getOrCreate()\n"
   ]
  },
  {
   "cell_type": "code",
   "execution_count": 29,
   "metadata": {},
   "outputs": [
    {
     "data": {
      "text/plain": [
       "'3.5.5'"
      ]
     },
     "execution_count": 29,
     "metadata": {},
     "output_type": "execute_result"
    }
   ],
   "source": [
    "spark.version"
   ]
  },
  {
   "cell_type": "code",
   "execution_count": 8,
   "metadata": {},
   "outputs": [
    {
     "name": "stdout",
     "output_type": "stream",
     "text": [
      "+---+\n",
      "| id|\n",
      "+---+\n",
      "|  0|\n",
      "|  1|\n",
      "|  2|\n",
      "|  3|\n",
      "|  4|\n",
      "+---+\n",
      "\n"
     ]
    }
   ],
   "source": [
    "spark.range(5).show()"
   ]
  },
  {
   "cell_type": "code",
   "execution_count": 19,
   "metadata": {},
   "outputs": [
    {
     "name": "stdout",
     "output_type": "stream",
     "text": [
      "+----------------------------------------------------------------------------------------------------------------------------------------------------------------------------------------------------------------------------------------------------------------------------------------------------------------------------------------------------------------------------------------------------------------------------------------------------------------------------------------------------------------------------------------------------------------------------------------------------------------------------------------------------------------------------------------------------------------------------------------------------------------------+\n",
      "|value                                                                                                                                                                                                                                                                                                                                                                                                                                                                                                                                                                                                                                                                                                                                                                 |\n",
      "+----------------------------------------------------------------------------------------------------------------------------------------------------------------------------------------------------------------------------------------------------------------------------------------------------------------------------------------------------------------------------------------------------------------------------------------------------------------------------------------------------------------------------------------------------------------------------------------------------------------------------------------------------------------------------------------------------------------------------------------------------------------------+\n",
      "|Lorem ipsum dolor sit amet, consectetur adipiscing elit. Donec mi purus, pellentesque sed eleifend ut, commodo non urna. Ut fringilla, diam vel tincidunt porttitor, risus nunc fermentum tellus, eu euismod eros est eu velit. Cras faucibus nunc sit amet tortor ultrices, non commodo odio sagittis. Morbi tincidunt sit amet neque consectetur maximus. Etiam pulvinar augue diam, at elementum tellus fermentum quis. Pellentesque tempor arcu lorem, tincidunt porta magna ultrices posuere. Aenean id metus massa.                                                                                                                                                                                                                                             |\n",
      "|                                                                                                                                                                                                                                                                                                                                                                                                                                                                                                                                                                                                                                                                                                                                                                      |\n",
      "|Vivamus efficitur leo vitae rhoncus ornare. Maecenas sit amet congue felis, et interdum tortor. Quisque mauris est, tempus nec nunc quis, mollis imperdiet nibh. In hac habitasse platea dictumst. Phasellus ut faucibus ipsum, vel maximus ligula. Nunc tincidunt vel dui non egestas. Nulla lacinia malesuada tellus, vitae vestibulum sem accumsan at. Nullam nec volutpat sem, a dignissim quam. In vel quam ut magna viverra vulputate. Proin turpis enim, sodales at malesuada eget, dictum a ipsum. Fusce risus odio, tempor in convallis in, feugiat vel ante. Pellentesque habitant morbi tristique senectus et netus et malesuada fames ac turpis egestas. Morbi porttitor vestibulum imperdiet. Duis non lectus facilisis, tincidunt odio ut, tempus augue.|\n",
      "+----------------------------------------------------------------------------------------------------------------------------------------------------------------------------------------------------------------------------------------------------------------------------------------------------------------------------------------------------------------------------------------------------------------------------------------------------------------------------------------------------------------------------------------------------------------------------------------------------------------------------------------------------------------------------------------------------------------------------------------------------------------------+\n",
      "only showing top 3 rows\n",
      "\n"
     ]
    }
   ],
   "source": [
    "strings = spark.read.text(\"lorem.md\")\n",
    "strings.show(3, truncate=False)"
   ]
  },
  {
   "cell_type": "code",
   "execution_count": 21,
   "metadata": {},
   "outputs": [
    {
     "data": {
      "text/plain": [
       "9"
      ]
     },
     "execution_count": 21,
     "metadata": {},
     "output_type": "execute_result"
    }
   ],
   "source": [
    "strings.count()"
   ]
  },
  {
   "cell_type": "code",
   "execution_count": 25,
   "metadata": {},
   "outputs": [
    {
     "data": {
      "text/plain": [
       "3"
      ]
     },
     "execution_count": 25,
     "metadata": {},
     "output_type": "execute_result"
    }
   ],
   "source": [
    "filtered = strings.filter(strings.value.contains(\"eget\"))\n",
    "filtered.count()"
   ]
  },
  {
   "cell_type": "code",
   "execution_count": 6,
   "metadata": {},
   "outputs": [
    {
     "name": "stdout",
     "output_type": "stream",
     "text": [
      "+---+-----------+------+-------+------+\n",
      "| id|       name|dep_id|exp_lvl|salary|\n",
      "+---+-----------+------+-------+------+\n",
      "|  1|     'Anna'|     1|    1.0|1000.0|\n",
      "|  2| 'Krystyna'|     2|    2.0|5000.0|\n",
      "|  3|      'Jan'|     1|    1.0|1000.0|\n",
      "|  4|     'John'|     1|    3.0|7000.0|\n",
      "|  5|     'Paul'|     2|    3.0|8000.0|\n",
      "|  6|    'Kumar'|     1|    3.0|7000.0|\n",
      "+---+-----------+------+-------+------+\n",
      "\n"
     ]
    }
   ],
   "source": [
    "dfhr = spark.read.csv(\"emp.csv\", header=True, inferSchema=True)\n",
    "dfhr.show()"
   ]
  },
  {
   "cell_type": "code",
   "execution_count": 7,
   "metadata": {},
   "outputs": [
    {
     "name": "stdout",
     "output_type": "stream",
     "text": [
      "root\n",
      " |-- id: integer (nullable = true)\n",
      " |-- name: string (nullable = true)\n",
      " |-- dep_id: integer (nullable = true)\n",
      " |-- exp_lvl: double (nullable = true)\n",
      " |-- salary: double (nullable = true)\n",
      "\n"
     ]
    }
   ],
   "source": [
    "dfhr.printSchema()"
   ]
  },
  {
   "cell_type": "code",
   "execution_count": 11,
   "metadata": {},
   "outputs": [
    {
     "name": "stdout",
     "output_type": "stream",
     "text": [
      "+-----------+\n",
      "|       name|\n",
      "+-----------+\n",
      "|     'Anna'|\n",
      "| 'Krystyna'|\n",
      "|      'Jan'|\n",
      "|     'John'|\n",
      "|     'Paul'|\n",
      "|    'Kumar'|\n",
      "+-----------+\n",
      "\n"
     ]
    }
   ],
   "source": [
    "dfhr.select(\"name\").show()"
   ]
  },
  {
   "cell_type": "code",
   "execution_count": 9,
   "metadata": {},
   "outputs": [
    {
     "name": "stdout",
     "output_type": "stream",
     "text": [
      "+---+--------+------+-------+------+\n",
      "| id|    name|dep_id|exp_lvl|salary|\n",
      "+---+--------+------+-------+------+\n",
      "|  4|  'John'|     1|    3.0|7000.0|\n",
      "|  5|  'Paul'|     2|    3.0|8000.0|\n",
      "|  6| 'Kumar'|     1|    3.0|7000.0|\n",
      "+---+--------+------+-------+------+\n",
      "\n"
     ]
    }
   ],
   "source": [
    "dfhr.filter(dfhr[\"salary\"] > 5000).show()"
   ]
  },
  {
   "cell_type": "code",
   "execution_count": 8,
   "metadata": {},
   "outputs": [
    {
     "name": "stdout",
     "output_type": "stream",
     "text": [
      "+---+--------+------+-------+------+\n",
      "| id|    name|dep_id|exp_lvl|salary|\n",
      "+---+--------+------+-------+------+\n",
      "|  4|  'John'|     1|    3.0|7000.0|\n",
      "|  5|  'Paul'|     2|    3.0|8000.0|\n",
      "|  6| 'Kumar'|     1|    3.0|7000.0|\n",
      "+---+--------+------+-------+------+\n",
      "\n"
     ]
    }
   ],
   "source": [
    "dfhr.filter(dfhr.salary > 5000).show()"
   ]
  },
  {
   "cell_type": "code",
   "execution_count": 10,
   "metadata": {},
   "outputs": [
    {
     "name": "stdout",
     "output_type": "stream",
     "text": [
      "+---+--------+------+-------+------+\n",
      "| id|    name|dep_id|exp_lvl|salary|\n",
      "+---+--------+------+-------+------+\n",
      "|  1|  'Anna'|     1|    1.0|1000.0|\n",
      "|  3|   'Jan'|     1|    1.0|1000.0|\n",
      "|  4|  'John'|     1|    3.0|7000.0|\n",
      "|  6| 'Kumar'|     1|    3.0|7000.0|\n",
      "+---+--------+------+-------+------+\n",
      "\n"
     ]
    }
   ],
   "source": [
    "dfhr.filter(dfhr.dep_id == 1).show()"
   ]
  },
  {
   "cell_type": "code",
   "execution_count": 12,
   "metadata": {},
   "outputs": [
    {
     "name": "stdout",
     "output_type": "stream",
     "text": [
      "+--------+------+\n",
      "|    name|salary|\n",
      "+--------+------+\n",
      "|  'John'|7000.0|\n",
      "| 'Kumar'|7000.0|\n",
      "|  'Anna'|1000.0|\n",
      "|   'Jan'|1000.0|\n",
      "+--------+------+\n",
      "\n"
     ]
    }
   ],
   "source": [
    "dfhr.filter(dfhr.dep_id == 1).select(\"name\",\"salary\").orderBy(\"salary\", ascending=False).show()"
   ]
  },
  {
   "cell_type": "code",
   "execution_count": 23,
   "metadata": {},
   "outputs": [
    {
     "name": "stdout",
     "output_type": "stream",
     "text": [
      "+---+----+\n",
      "| id|name|\n",
      "+---+----+\n",
      "|  1|  IT|\n",
      "|  2| FIN|\n",
      "+---+----+\n",
      "\n"
     ]
    }
   ],
   "source": [
    "dfdep = spark.read.csv(\"dep.csv\", header=True, inferSchema=True)\n",
    "dfdep.show()"
   ]
  },
  {
   "cell_type": "code",
   "execution_count": 24,
   "metadata": {},
   "outputs": [
    {
     "name": "stdout",
     "output_type": "stream",
     "text": [
      "+---+-----------+------+-------+------+---+----+\n",
      "| id|       name|dep_id|exp_lvl|salary| id|name|\n",
      "+---+-----------+------+-------+------+---+----+\n",
      "|  1|     'Anna'|     1|    1.0|1000.0|  1|  IT|\n",
      "|  2| 'Krystyna'|     2|    2.0|5000.0|  2| FIN|\n",
      "|  3|      'Jan'|     1|    1.0|1000.0|  1|  IT|\n",
      "|  4|     'John'|     1|    3.0|7000.0|  1|  IT|\n",
      "|  5|     'Paul'|     2|    3.0|8000.0|  2| FIN|\n",
      "|  6|    'Kumar'|     1|    3.0|7000.0|  1|  IT|\n",
      "+---+-----------+------+-------+------+---+----+\n",
      "\n"
     ]
    }
   ],
   "source": [
    "dfhr.join(dfdep, dfhr.dep_id == dfdep.id,\"inner\").show()"
   ]
  },
  {
   "cell_type": "code",
   "execution_count": 15,
   "metadata": {},
   "outputs": [
    {
     "name": "stdout",
     "output_type": "stream",
     "text": [
      "root\n",
      " |-- id: integer (nullable = true)\n",
      " |-- name: string (nullable = true)\n",
      " |-- dep_id: integer (nullable = true)\n",
      " |-- exp_lvl: double (nullable = true)\n",
      " |-- salary: double (nullable = true)\n",
      "\n",
      "root\n",
      " |-- id: integer (nullable = true)\n",
      " |-- name: string (nullable = true)\n",
      "\n"
     ]
    }
   ],
   "source": [
    "dfhr.printSchema()\n",
    "dfdep.printSchema()"
   ]
  },
  {
   "cell_type": "code",
   "execution_count": 21,
   "metadata": {},
   "outputs": [
    {
     "name": "stdout",
     "output_type": "stream",
     "text": [
      "+------+-----------+\n",
      "|dep_id|avg(salary)|\n",
      "+------+-----------+\n",
      "|     1|     4000.0|\n",
      "|     2|     6500.0|\n",
      "+------+-----------+\n",
      "\n"
     ]
    }
   ],
   "source": [
    "from pyspark.sql.functions import avg\n",
    "\n",
    "dfhr.groupBy(\"dep_id\").agg(avg(\"salary\")).show()"
   ]
  },
  {
   "cell_type": "code",
   "execution_count": 29,
   "metadata": {},
   "outputs": [
    {
     "name": "stdout",
     "output_type": "stream",
     "text": [
      "+------------------+\n",
      "|             label|\n",
      "+------------------+\n",
      "|     'Anna' 1000.0|\n",
      "| 'Krystyna' 5000.0|\n",
      "|      'Jan' 1000.0|\n",
      "|     'John' 7000.0|\n",
      "|     'Paul' 8000.0|\n",
      "|    'Kumar' 7000.0|\n",
      "+------------------+\n",
      "\n"
     ]
    }
   ],
   "source": [
    "from pyspark.sql.functions import concat_ws\n",
    "\n",
    "dfhr.select(concat_ws(\" \", dfhr.name, dfhr.salary).alias(\"label\")).show()"
   ]
  },
  {
   "cell_type": "code",
   "execution_count": 33,
   "metadata": {},
   "outputs": [
    {
     "data": {
      "image/png": "[encoded data removed]",
      "text/plain": [
       "<Figure size 640x480 with 1 Axes>"
      ]
     },
     "metadata": {},
     "output_type": "display_data"
    }
   ],
   "source": [
    "pdf = dfhr.select(\"salary\",\"dep_id\").toPandas()\n",
    "\n",
    "import seaborn as sns\n",
    "import matplotlib.pyplot as plt\n",
    "\n",
    "sns.boxplot(x=\"dep_id\", y=\"salary\", data=pdf)\n",
    "plt.show()"
   ]
  }
 ],
 "metadata": {
  "kernelspec": {
   "display_name": "base",
   "language": "python",
   "name": "python3"
  },
  "language_info": {
   "codemirror_mode": {
    "name": "ipython",
    "version": 3
   },
   "file_extension": ".py",
   "mimetype": "text/x-python",
   "name": "python",
   "nbconvert_exporter": "python",
   "pygments_lexer": "ipython3",
   "version": "3.12.3"
  }
 },
 "nbformat": 4,
 "nbformat_minor": 2
}
