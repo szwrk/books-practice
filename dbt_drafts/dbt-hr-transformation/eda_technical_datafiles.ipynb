{
 "cells": [
  {
   "cell_type": "markdown",
   "metadata": {},
   "source": [
    "# Exploratory data analysis - Technical - OS Level Analysis"
   ]
  },
  {
   "cell_type": "markdown",
   "metadata": {},
   "source": [
    "## Departments CSV"
   ]
  },
  {
   "cell_type": "code",
   "execution_count": null,
   "metadata": {},
   "outputs": [],
   "source": [
    "dep_path = \"hr_dwh/seeds/raw_departments.csv\""
   ]
  },
  {
   "cell_type": "code",
   "execution_count": null,
   "metadata": {},
   "outputs": [
    {
     "name": "stdout",
     "output_type": "stream",
     "text": [
      "var=hr_dwh/seeds/departments_dbt.csv\n"
     ]
    },
    {
     "name": "stdout",
     "output_type": "stream",
     "text": [
      "File-check: hr_dwh/seeds/departments_dbt.csv: CSV text\n",
      "Last Update: -rwxrwxrwx 1 arek arek 766 Apr 1 14:10 hr_dwh/seeds/departments_dbt.csv\n",
      "Row number: 29 hr_dwh/seeds/departments_dbt.csv\n",
      "Size: 4.0K hr_dwh/seeds/departments_dbt.csv\n",
      "Headers:\n",
      "\"DEPARTMENT_ID\",\"DEPARTMENT_NAME\",\"MANAGER_ID\",\"LOCATION_ID\"\n"
     ]
    }
   ],
   "source": [
    "!echo var=$dep_path\n",
    "!echo File-check: $(file $dep_path)\n",
    "!echo Last Update: $(ls -lh $dep_path)\n",
    "!echo Row number: $(wc -l $dep_path)\n",
    "!echo Size: $(du -h hr_dwh/seeds/raw_departments.csv)\n",
    "!echo 'Headers:'\n",
    "!head -n 1 $dep_path"
   ]
  },
  {
   "cell_type": "code",
   "execution_count": null,
   "metadata": {},
   "outputs": [
    {
     "name": "stdout",
     "output_type": "stream",
     "text": [
      "Validate structure - count number of columns:\n",
      "     29 4\n"
     ]
    }
   ],
   "source": [
    "!echo 'Validate structure - count number of columns:'\n",
    "!awk -F',' '{print NF}'  hr_dwh/seeds/raw_departments.csv | sort | uniq -c"
   ]
  },
  {
   "cell_type": "code",
   "execution_count": 133,
   "metadata": {},
   "outputs": [
    {
     "name": "stdout",
     "output_type": "stream",
     "text": [
      "Head & Tail of csv\n",
      "-----------\n",
      "\"DEPARTMENT_ID\"  \"DEPARTMENT_NAME\"  \"MANAGER_ID\"  \"LOCATION_ID\"\n",
      "10               \"Administration\"   200           1700\n",
      "20               \"Marketing\"        201           1800\n",
      "30               \"Purchasing\"       114           1700\n",
      "40               \"Human Resources\"  XXX           2400\n",
      "...\n",
      "230  \"IT Helpdesk\"         1700\n",
      "240  \"Government Sales\"    1700\n",
      "250  \"Retail Sales\"        1700\n",
      "260  \"Recruiting\"          1700\n",
      "270  \"Payroll\"             1700\n",
      "\n",
      "Middle of csv\n",
      "-----------\n",
      "100  \"Finance\"               108   1700\n",
      "110  \"Accounting\"            205   1700\n",
      "120  \"Treasury\"                    1700\n",
      "130  \"Corporate Tax\"               abc\n",
      "140  \"Control And Credit\"          1700\n",
      "150  \"Shareholder Services\"  null  1700\n",
      "160  \"Benefits\"                    1700\n"
     ]
    }
   ],
   "source": [
    "!echo \"Head & Tail of csv\"\n",
    "!echo \"-----------\"\n",
    "!head -5 $dep_path | column -t -s ',' && echo ... && tail -5 $dep_path | column -t -s ','\n",
    "!echo\n",
    "!echo \"Middle of csv\"\n",
    "!echo \"-----------\"\n",
    "!sed -n \"$(( $(wc -l < $dep_path) / 2 - 3 )),$(( $(wc -l < $dep_path) / 2 + 3 ))p\" $dep_path | column -t -s ','"
   ]
  },
  {
   "cell_type": "code",
   "execution_count": 3,
   "metadata": {},
   "outputs": [],
   "source": [
    "import pandas as pd\n",
    "import duckdb as db\n",
    "\n",
    "df = pd.read_csv(\"hr_dwh/seeds/raw_departments.csv\")"
   ]
  },
  {
   "cell_type": "code",
   "execution_count": 4,
   "metadata": {},
   "outputs": [
    {
     "data": {
      "text/plain": [
       "<duckdb.duckdb.DuckDBPyConnection at 0x7fe426829a30>"
      ]
     },
     "execution_count": 4,
     "metadata": {},
     "output_type": "execute_result"
    }
   ],
   "source": [
    "db.register('dep',df)"
   ]
  },
  {
   "cell_type": "code",
   "execution_count": 5,
   "metadata": {},
   "outputs": [
    {
     "data": {
      "text/plain": [
       "┌─────────────────┬─────────────┬─────────┬─────────┬─────────┬─────────┐\n",
       "│   column_name   │ column_type │  null   │   key   │ default │  extra  │\n",
       "│     varchar     │   varchar   │ varchar │ varchar │ varchar │ varchar │\n",
       "├─────────────────┼─────────────┼─────────┼─────────┼─────────┼─────────┤\n",
       "│ DEPARTMENT_ID   │ BIGINT      │ YES     │ NULL    │ NULL    │ NULL    │\n",
       "│ DEPARTMENT_NAME │ VARCHAR     │ YES     │ NULL    │ NULL    │ NULL    │\n",
       "│ MANAGER_ID      │ VARCHAR     │ YES     │ NULL    │ NULL    │ NULL    │\n",
       "│ LOCATION_ID     │ VARCHAR     │ YES     │ NULL    │ NULL    │ NULL    │\n",
       "└─────────────────┴─────────────┴─────────┴─────────┴─────────┴─────────┘"
      ]
     },
     "execution_count": 5,
     "metadata": {},
     "output_type": "execute_result"
    }
   ],
   "source": [
    "db.sql(\"DESCRIBE SELECT * FROM read_csv_auto('hr_dwh/seeds/raw_departments.csv')\")\n"
   ]
  },
  {
   "cell_type": "code",
   "execution_count": 203,
   "metadata": {},
   "outputs": [
    {
     "name": "stdout",
     "output_type": "stream",
     "text": [
      "<class 'pandas.core.frame.DataFrame'>\n",
      "RangeIndex: 28 entries, 0 to 27\n",
      "Data columns (total 4 columns):\n",
      " #   Column           Non-Null Count  Dtype \n",
      "---  ------           --------------  ----- \n",
      " 0   DEPARTMENT_ID    28 non-null     int64 \n",
      " 1   DEPARTMENT_NAME  27 non-null     object\n",
      " 2   MANAGER_ID       11 non-null     object\n",
      " 3   LOCATION_ID      27 non-null     object\n",
      "dtypes: int64(1), object(3)\n",
      "memory usage: 1.0+ KB\n"
     ]
    }
   ],
   "source": [
    "df.info()"
   ]
  },
  {
   "cell_type": "code",
   "execution_count": 6,
   "metadata": {},
   "outputs": [
    {
     "data": {
      "text/html": [
       "<div>\n",
       "<style scoped>\n",
       "    .dataframe tbody tr th:only-of-type {\n",
       "        vertical-align: middle;\n",
       "    }\n",
       "\n",
       "    .dataframe tbody tr th {\n",
       "        vertical-align: top;\n",
       "    }\n",
       "\n",
       "    .dataframe thead th {\n",
       "        text-align: right;\n",
       "    }\n",
       "</style>\n",
       "<table border=\"1\" class=\"dataframe\">\n",
       "  <thead>\n",
       "    <tr style=\"text-align: right;\">\n",
       "      <th></th>\n",
       "      <th>DEPARTMENT_ID</th>\n",
       "    </tr>\n",
       "  </thead>\n",
       "  <tbody>\n",
       "    <tr>\n",
       "      <th>count</th>\n",
       "      <td>28.000000</td>\n",
       "    </tr>\n",
       "    <tr>\n",
       "      <th>mean</th>\n",
       "      <td>142.142857</td>\n",
       "    </tr>\n",
       "    <tr>\n",
       "      <th>std</th>\n",
       "      <td>78.709835</td>\n",
       "    </tr>\n",
       "    <tr>\n",
       "      <th>min</th>\n",
       "      <td>10.000000</td>\n",
       "    </tr>\n",
       "    <tr>\n",
       "      <th>25%</th>\n",
       "      <td>77.500000</td>\n",
       "    </tr>\n",
       "    <tr>\n",
       "      <th>50%</th>\n",
       "      <td>145.000000</td>\n",
       "    </tr>\n",
       "    <tr>\n",
       "      <th>75%</th>\n",
       "      <td>202.500000</td>\n",
       "    </tr>\n",
       "    <tr>\n",
       "      <th>max</th>\n",
       "      <td>270.000000</td>\n",
       "    </tr>\n",
       "  </tbody>\n",
       "</table>\n",
       "</div>"
      ],
      "text/plain": [
       "       DEPARTMENT_ID\n",
       "count      28.000000\n",
       "mean      142.142857\n",
       "std        78.709835\n",
       "min        10.000000\n",
       "25%        77.500000\n",
       "50%       145.000000\n",
       "75%       202.500000\n",
       "max       270.000000"
      ]
     },
     "execution_count": 6,
     "metadata": {},
     "output_type": "execute_result"
    }
   ],
   "source": [
    " df.describe()"
   ]
  },
  {
   "cell_type": "markdown",
   "metadata": {},
   "source": [
    "**Table preview**"
   ]
  },
  {
   "cell_type": "code",
   "execution_count": 154,
   "metadata": {},
   "outputs": [
    {
     "data": {
      "text/html": [
       "<div>\n",
       "<style scoped>\n",
       "    .dataframe tbody tr th:only-of-type {\n",
       "        vertical-align: middle;\n",
       "    }\n",
       "\n",
       "    .dataframe tbody tr th {\n",
       "        vertical-align: top;\n",
       "    }\n",
       "\n",
       "    .dataframe thead th {\n",
       "        text-align: right;\n",
       "    }\n",
       "</style>\n",
       "<table border=\"1\" class=\"dataframe\">\n",
       "  <thead>\n",
       "    <tr style=\"text-align: right;\">\n",
       "      <th></th>\n",
       "      <th>column_name</th>\n",
       "      <th>column_type</th>\n",
       "      <th>null</th>\n",
       "      <th>key</th>\n",
       "      <th>default</th>\n",
       "      <th>extra</th>\n",
       "    </tr>\n",
       "  </thead>\n",
       "  <tbody>\n",
       "    <tr>\n",
       "      <th>0</th>\n",
       "      <td>DEPARTMENT_ID</td>\n",
       "      <td>BIGINT</td>\n",
       "      <td>YES</td>\n",
       "      <td>None</td>\n",
       "      <td>None</td>\n",
       "      <td>None</td>\n",
       "    </tr>\n",
       "    <tr>\n",
       "      <th>1</th>\n",
       "      <td>DEPARTMENT_NAME</td>\n",
       "      <td>VARCHAR</td>\n",
       "      <td>YES</td>\n",
       "      <td>None</td>\n",
       "      <td>None</td>\n",
       "      <td>None</td>\n",
       "    </tr>\n",
       "    <tr>\n",
       "      <th>2</th>\n",
       "      <td>MANAGER_ID</td>\n",
       "      <td>DOUBLE</td>\n",
       "      <td>YES</td>\n",
       "      <td>None</td>\n",
       "      <td>None</td>\n",
       "      <td>None</td>\n",
       "    </tr>\n",
       "    <tr>\n",
       "      <th>3</th>\n",
       "      <td>LOCATION_ID</td>\n",
       "      <td>BIGINT</td>\n",
       "      <td>YES</td>\n",
       "      <td>None</td>\n",
       "      <td>None</td>\n",
       "      <td>None</td>\n",
       "    </tr>\n",
       "  </tbody>\n",
       "</table>\n",
       "</div>"
      ],
      "text/plain": [
       "       column_name column_type null   key default extra\n",
       "0    DEPARTMENT_ID      BIGINT  YES  None    None  None\n",
       "1  DEPARTMENT_NAME     VARCHAR  YES  None    None  None\n",
       "2       MANAGER_ID      DOUBLE  YES  None    None  None\n",
       "3      LOCATION_ID      BIGINT  YES  None    None  None"
      ]
     },
     "execution_count": 154,
     "metadata": {},
     "output_type": "execute_result"
    }
   ],
   "source": [
    "db.sql(\"desc dep\").df()"
   ]
  },
  {
   "cell_type": "code",
   "execution_count": 172,
   "metadata": {},
   "outputs": [
    {
     "data": {
      "text/html": [
       "<div>\n",
       "<style scoped>\n",
       "    .dataframe tbody tr th:only-of-type {\n",
       "        vertical-align: middle;\n",
       "    }\n",
       "\n",
       "    .dataframe tbody tr th {\n",
       "        vertical-align: top;\n",
       "    }\n",
       "\n",
       "    .dataframe thead th {\n",
       "        text-align: right;\n",
       "    }\n",
       "</style>\n",
       "<table border=\"1\" class=\"dataframe\">\n",
       "  <thead>\n",
       "    <tr style=\"text-align: right;\">\n",
       "      <th></th>\n",
       "      <th>DEPARTMENT_ID</th>\n",
       "      <th>DEPARTMENT_NAME</th>\n",
       "      <th>MANAGER_ID</th>\n",
       "      <th>LOCATION_ID</th>\n",
       "    </tr>\n",
       "  </thead>\n",
       "  <tbody>\n",
       "    <tr>\n",
       "      <th>0</th>\n",
       "      <td>10</td>\n",
       "      <td>Administration</td>\n",
       "      <td>200.0</td>\n",
       "      <td>1700</td>\n",
       "    </tr>\n",
       "    <tr>\n",
       "      <th>1</th>\n",
       "      <td>20</td>\n",
       "      <td>Marketing</td>\n",
       "      <td>201.0</td>\n",
       "      <td>1800</td>\n",
       "    </tr>\n",
       "    <tr>\n",
       "      <th>2</th>\n",
       "      <td>30</td>\n",
       "      <td>Purchasing</td>\n",
       "      <td>114.0</td>\n",
       "      <td>1700</td>\n",
       "    </tr>\n",
       "    <tr>\n",
       "      <th>3</th>\n",
       "      <td>40</td>\n",
       "      <td>Human Resources</td>\n",
       "      <td>203.0</td>\n",
       "      <td>2400</td>\n",
       "    </tr>\n",
       "    <tr>\n",
       "      <th>4</th>\n",
       "      <td>50</td>\n",
       "      <td>Shipping</td>\n",
       "      <td>121.0</td>\n",
       "      <td>1500</td>\n",
       "    </tr>\n",
       "    <tr>\n",
       "      <th>5</th>\n",
       "      <td>60</td>\n",
       "      <td>IT</td>\n",
       "      <td>103.0</td>\n",
       "      <td>1400</td>\n",
       "    </tr>\n",
       "    <tr>\n",
       "      <th>6</th>\n",
       "      <td>70</td>\n",
       "      <td>Public Relations</td>\n",
       "      <td>204.0</td>\n",
       "      <td>2700</td>\n",
       "    </tr>\n",
       "    <tr>\n",
       "      <th>7</th>\n",
       "      <td>80</td>\n",
       "      <td>Sales</td>\n",
       "      <td>145.0</td>\n",
       "      <td>2500</td>\n",
       "    </tr>\n",
       "    <tr>\n",
       "      <th>8</th>\n",
       "      <td>90</td>\n",
       "      <td>Executive</td>\n",
       "      <td>100.0</td>\n",
       "      <td>1700</td>\n",
       "    </tr>\n",
       "    <tr>\n",
       "      <th>9</th>\n",
       "      <td>100</td>\n",
       "      <td>Finance</td>\n",
       "      <td>108.0</td>\n",
       "      <td>1700</td>\n",
       "    </tr>\n",
       "  </tbody>\n",
       "</table>\n",
       "</div>"
      ],
      "text/plain": [
       "   DEPARTMENT_ID   DEPARTMENT_NAME  MANAGER_ID  LOCATION_ID\n",
       "0             10    Administration       200.0         1700\n",
       "1             20         Marketing       201.0         1800\n",
       "2             30        Purchasing       114.0         1700\n",
       "3             40   Human Resources       203.0         2400\n",
       "4             50          Shipping       121.0         1500\n",
       "5             60                IT       103.0         1400\n",
       "6             70  Public Relations       204.0         2700\n",
       "7             80             Sales       145.0         2500\n",
       "8             90         Executive       100.0         1700\n",
       "9            100           Finance       108.0         1700"
      ]
     },
     "execution_count": 172,
     "metadata": {},
     "output_type": "execute_result"
    }
   ],
   "source": [
    "db.sql(\"SELECT * FROM dep LIMIT 100\").df().head(10)"
   ]
  },
  {
   "cell_type": "markdown",
   "metadata": {},
   "source": [
    "## Employees CSV"
   ]
  },
  {
   "cell_type": "markdown",
   "metadata": {},
   "source": [
    "**OS Level Analysis**"
   ]
  },
  {
   "cell_type": "code",
   "execution_count": null,
   "metadata": {},
   "outputs": [],
   "source": [
    "emp_path = \"data/emp.csv\""
   ]
  },
  {
   "cell_type": "code",
   "execution_count": 121,
   "metadata": {},
   "outputs": [
    {
     "name": "stdout",
     "output_type": "stream",
     "text": [
      "var=data/emp.csv\n",
      "File-check: data/emp.csv: CSV text\n",
      "Last Update: -rwxrwxrwx 1 arek arek 8.9K Mar 31 03:14 data/emp.csv\n",
      "Row number: 107 data/emp.csv\n",
      "Size: 12K data/emp.csv\n",
      "Validate structure - count number of columns:\n",
      "^C\n",
      "Headers:\n",
      "\"EMPLOYEE_ID\",\"FIRST_NAME\",\"LAST_NAME\",\"EMAIL\",\"PHONE_NUMBER\",\"HIRE_DATE\",\"JOB_ID\",\"SALARY\",\"COMMISSION_PCT\",\"MANAGER_ID\",\"DEPARTMENT_ID\"\n"
     ]
    }
   ],
   "source": [
    "!echo var=$emp_path\n",
    "!echo File-check: $(file $emp_path)\n",
    "!echo Last Update: $(ls -lh $emp_path)\n",
    "!echo Row number: $(wc -l $emp_path)\n",
    "!echo Size: $(du -h $emp_path)\n",
    "!echo 'Validate structure - count number of columns:'\n",
    "!awk -F',' '{print NF}' $emp_path | sort | uniq -c\n",
    "!echo 'Headers:'\n",
    "!head -n 1 $emp_path"
   ]
  },
  {
   "cell_type": "code",
   "execution_count": 140,
   "metadata": {},
   "outputs": [
    {
     "name": "stdout",
     "output_type": "stream",
     "text": [
      "Validate structure - count number of columns:\n",
      "    108 11\n"
     ]
    }
   ],
   "source": [
    "!echo 'Validate structure - count number of columns:'\n",
    "!awk -F',' '{print NF}'  data/emp.csv | sort | uniq -c"
   ]
  },
  {
   "cell_type": "code",
   "execution_count": 119,
   "metadata": {},
   "outputs": [
    {
     "name": "stdout",
     "output_type": "stream",
     "text": [
      "Head & Tail of csv\n"
     ]
    },
    {
     "name": "stdout",
     "output_type": "stream",
     "text": [
      "-----------\n",
      "\"EMPLOYEE_ID\"  \"FIRST_NAME\"  \"LAST_NAME\"  \"EMAIL\"    \"PHONE_NUMBER\"    \"HIRE_DATE\"  \"JOB_ID\"   \"SALARY\"  \"COMMISSION_PCT\"  \"MANAGER_ID\"  \"DEPARTMENT_ID\"\n",
      "100            \"Steven\"      \"King\"       \"SKING\"    \"1.515.555.0100\"  17-JUN-13    \"AD_PRES\"  24000                                     90\n",
      "101            \"Neena\"       \"Yang\"       \"NYANG\"    \"1.515.555.0101\"  21-SEP-15    \"AD_VP\"    17000                       100           90\n",
      "102            \"Lex\"         \"Garcia\"     \"LGARCIA\"  \"1.515.555.0102\"  13-JAN-11    \"AD_VP\"    17000                       100           90\n",
      "103            \"Alexander\"   \"James\"      \"AJAMES\"   \"1.590.555.0103\"  03-JAN-16    \"IT_PROG\"  9000                        102           60\n",
      "...\n",
      "202  \"Pat\"      \"Davis\"    \"PDAVIS\"    \"1.603.555.0167\"  17-AUG-15  \"MK_REP\"      6000     201  20\n",
      "203  \"Susan\"    \"Jacobs\"   \"SJACOBS\"   \"1.515.555.0168\"  07-JUN-12  \"HR_REP\"      6500     101  40\n",
      "204  \"Hermann\"  \"Brown\"    \"HBROWN\"    \"1.515.555.0169\"  07-JUN-12  \"PR_REP\"      10000    101  70\n",
      "205  \"Shelley\"  \"Higgins\"  \"SHIGGINS\"  \"1.515.555.0170\"  07-JUN-12  \"AC_MGR\"      12008    101  110\n",
      "206  \"William\"  \"Gietz\"    \"WGIETZ\"    \"1.515.555.0171\"  07-JUN-12  \"AC_ACCOUNT\"  8300     205  110\n",
      "\n",
      "Middle of csv\n",
      "-----------\n",
      "148  \"Gerald\"       \"Cambrault\"  \"GCAMBRAU\"  \"44.1632.960003\"  15-OCT-17  \"SA_MAN\"  11000  0.3   100  80\n",
      "149  \"Eleni\"        \"Zlotkey\"    \"EZLOTKEY\"  \"44.1632.960004\"  29-JAN-18  \"SA_MAN\"  10500  0.2   100  80\n",
      "150  \"Sean\"         \"Tucker\"     \"STUCKER\"   \"44.1632.960005\"  30-JAN-15  \"SA_REP\"  10000  0.3   145  80\n",
      "151  \"David\"        \"Bernstein\"  \"DBERNSTE\"  \"44.1632.960006\"  24-MAR-15  \"SA_REP\"  9500   0.25  145  80\n",
      "152  \"Peter\"        \"Hall\"       \"PHALL\"     \"44.1632.960007\"  20-AUG-15  \"SA_REP\"  9000   0.25  145  80\n",
      "153  \"Christopher\"  \"Olsen\"      \"COLSEN\"    \"44.1632.960008\"  30-MAR-16  \"SA_REP\"  8000   0.2   145  80\n",
      "154  \"Nanette\"      \"Cambrault\"  \"NCAMBRAU\"  \"44.1632.960009\"  09-DEC-16  \"SA_REP\"  7500   0.2   145  80\n"
     ]
    }
   ],
   "source": [
    "!echo \"Head & Tail of csv\"\n",
    "!echo \"-----------\"\n",
    "!head -5 $emp_path | column -t -s ',' && echo ... && tail -5 $emp_path | column -t -s ','\n",
    "!echo\n",
    "!echo \"Middle of csv\"\n",
    "!echo \"-----------\"\n",
    "!sed -n \"$(( $(wc -l < $emp_path) / 2 - 3 )),$(( $(wc -l < $emp_path) / 2 + 3 ))p\" $emp_path | column -t -s ','"
   ]
  }
 ],
 "metadata": {
  "kernelspec": {
   "display_name": "PySpark (WSL)",
   "language": "python",
   "name": "pyspark-wsl"
  },
  "language_info": {
   "codemirror_mode": {
    "name": "ipython",
    "version": 3
   },
   "file_extension": ".py",
   "mimetype": "text/x-python",
   "name": "python",
   "nbconvert_exporter": "python",
   "pygments_lexer": "ipython3",
   "version": "3.10.12"
  }
 },
 "nbformat": 4,
 "nbformat_minor": 2
}
